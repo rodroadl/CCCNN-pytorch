{
 "cells": [
  {
   "cell_type": "markdown",
   "metadata": {},
   "source": [
    "# colab.ipynb\n",
    "**GunGyeom James Kim**\n",
    "\n",
    "October 14th, 2023\n",
    "\n",
    "CS 7180: Advnaced Perception\n",
    "\n",
    "- code for running on Colab environment"
   ]
  },
  {
   "cell_type": "markdown",
   "metadata": {},
   "source": [
    "# mount the gdrive on colab"
   ]
  },
  {
   "cell_type": "code",
   "execution_count": null,
   "metadata": {},
   "outputs": [],
   "source": [
    "from google.colab import drive\n",
    "drive.mount('/content/drive')"
   ]
  },
  {
   "cell_type": "markdown",
   "metadata": {},
   "source": [
    "# delete unrelated material and load remote repository"
   ]
  },
  {
   "cell_type": "code",
   "execution_count": null,
   "metadata": {},
   "outputs": [],
   "source": [
    "!rm -r sample_data\n",
    "!git clone https://github.com/rodroadl/CCCNN-pytorch.git ./repo/"
   ]
  },
  {
   "cell_type": "markdown",
   "metadata": {},
   "source": [
    "# To reload modules before executing user code"
   ]
  },
  {
   "cell_type": "code",
   "execution_count": null,
   "metadata": {},
   "outputs": [],
   "source": [
    "%load_ext autoreload\n",
    "%autoreload 2"
   ]
  },
  {
   "cell_type": "markdown",
   "metadata": {},
   "source": [
    "# Train the network\n",
    "change arguments according to your need"
   ]
  },
  {
   "cell_type": "code",
   "execution_count": null,
   "metadata": {},
   "outputs": [],
   "source": [
    "%run ./repo/train.py --train-images-dir /content/drive/MyDrive/SimpleCube++/train/PNG --train-labels-file /content/drive/MyDrive/SimpleCube++/train/gt.csv --eval-images-dir /content/drive/MyDrive/SimpleCube++/test/PNG --eval-labels-file /content/drive/MyDrive/SimpleCube++/test/gt.csv --outputs-dir ./repo/pth --batch-size 32 --num-epochs 20 --lr 1e-3\n",
    "%run ./repo/train.py --train-images-dir /content/drive/MyDrive/SimpleCube++/train/PNG --train-labels-file /content/drive/MyDrive/SimpleCube++/train/gt.csv --eval-images-dir /content/drive/MyDrive/SimpleCube++/test/PNG --eval-labels-file /content/drive/MyDrive/SimpleCube++/test/gt.csv --outputs-dir ./repo/pth --batch-size 32 --num-epochs 20 --lr 1e-4\n",
    "%run ./repo/train.py --train-images-dir /content/drive/MyDrive/SimpleCube++/train/PNG --train-labels-file /content/drive/MyDrive/SimpleCube++/train/gt.csv --eval-images-dir /content/drive/MyDrive/SimpleCube++/test/PNG --eval-labels-file /content/drive/MyDrive/SimpleCube++/test/gt.csv --outputs-dir ./repo/pth --batch-size 32 --num-epochs 20 --lr 1e-5\n",
    "%run ./repo/train.py --train-images-dir /content/drive/MyDrive/SimpleCube++/train/PNG --train-labels-file /content/drive/MyDrive/SimpleCube++/train/gt.csv --eval-images-dir /content/drive/MyDrive/SimpleCube++/test/PNG --eval-labels-file /content/drive/MyDrive/SimpleCube++/test/gt.csv --outputs-dir ./repo/pth --batch-size 32 --num-epochs 20 --lr 1e-6\n",
    "\n",
    "%run ./repo/train.py --log-space --train-images-dir /content/drive/MyDrive/SimpleCube++/train/PNG --train-labels-file /content/drive/MyDrive/SimpleCube++/train/gt.csv --eval-images-dir /content/drive/MyDrive/SimpleCube++/test/PNG --eval-labels-file /content/drive/MyDrive/SimpleCube++/test/gt.csv --outputs-dir ./repo/pth --batch-size 32 --num-epochs 20 --lr 1e-3\n",
    "%run ./repo/train.py --log-space --train-images-dir /content/drive/MyDrive/SimpleCube++/train/PNG --train-labels-file /content/drive/MyDrive/SimpleCube++/train/gt.csv --eval-images-dir /content/drive/MyDrive/SimpleCube++/test/PNG --eval-labels-file /content/drive/MyDrive/SimpleCube++/test/gt.csv --outputs-dir ./repo/pth --batch-size 32 --num-epochs 20 --lr 1e-4\n",
    "%run ./repo/train.py --log-space --train-images-dir /content/drive/MyDrive/SimpleCube++/train/PNG --train-labels-file /content/drive/MyDrive/SimpleCube++/train/gt.csv --eval-images-dir /content/drive/MyDrive/SimpleCube++/test/PNG --eval-labels-file /content/drive/MyDrive/SimpleCube++/test/gt.csv --outputs-dir ./repo/pth --batch-size 32 --num-epochs 20 --lr 1e-5\n",
    "%run ./repo/train.py --log-space --train-images-dir /content/drive/MyDrive/SimpleCube++/train/PNG --train-labels-file /content/drive/MyDrive/SimpleCube++/train/gt.csv --eval-images-dir /content/drive/MyDrive/SimpleCube++/test/PNG --eval-labels-file /content/drive/MyDrive/SimpleCube++/test/gt.csv --outputs-dir ./repo/pth --batch-size 32 --num-epochs 20 --lr 1e-6"
   ]
  }
 ],
 "metadata": {
  "language_info": {
   "name": "python"
  }
 },
 "nbformat": 4,
 "nbformat_minor": 2
}
