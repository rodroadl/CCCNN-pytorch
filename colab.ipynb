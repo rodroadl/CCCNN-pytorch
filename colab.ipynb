{
 "cells": [
  {
   "cell_type": "markdown",
   "metadata": {},
   "source": [
    "# colab.ipynb\n",
    "**GunGyeom James Kim**\n",
    "\n",
    "October 14th, 2023\n",
    "\n",
    "CS 7180: Advnaced Perception\n",
    "\n",
    "- code for running on Colab environment"
   ]
  },
  {
   "cell_type": "markdown",
   "metadata": {},
   "source": [
    "# mount the gdrive on colab"
   ]
  },
  {
   "cell_type": "code",
   "execution_count": null,
   "metadata": {},
   "outputs": [],
   "source": [
    "from google.colab import drive\n",
    "drive.mount('/content/drive')"
   ]
  },
  {
   "cell_type": "markdown",
   "metadata": {},
   "source": [
    "# delete unrelated material and load remote repository"
   ]
  }
 ],
 "metadata": {
  "language_info": {
   "name": "python"
  }
 },
 "nbformat": 4,
 "nbformat_minor": 2
}
